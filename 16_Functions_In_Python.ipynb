{
  "nbformat": 4,
  "nbformat_minor": 0,
  "metadata": {
    "colab": {
      "provenance": []
    },
    "kernelspec": {
      "name": "python3",
      "display_name": "Python 3"
    }
  },
  "cells": [
    {
      "cell_type": "code",
      "metadata": {
        "id": "PBNwRKfcz1OF"
      },
      "source": [
        "# Creating a Function\n",
        "\n",
        "def myf():\n",
        "  print(\"Hello,My Name is himanshu and I am teaching functions in Python.\")"
      ],
      "execution_count": null,
      "outputs": []
    },
    {
      "cell_type": "code",
      "metadata": {
        "id": "v21sGn7T0Ibc",
        "colab": {
          "base_uri": "https://localhost:8080/"
        },
        "outputId": "d968a068-d562-49be-e73d-47237831e23a"
      },
      "source": [
        "# Calling a Function\n",
        "\n",
        "myf()        # Call the Above function just declare the name of a function with A Paranthesis"
      ],
      "execution_count": null,
      "outputs": [
        {
          "output_type": "stream",
          "name": "stdout",
          "text": [
            "Hello,My Name is himanshu and I am teaching functions in Python.\n"
          ]
        }
      ]
    },
    {
      "cell_type": "code",
      "metadata": {
        "id": "soicOX2Y0O1z"
      },
      "source": [
        "# Arguments In Function\n",
        "\n",
        "def name(fname):    # Here fname is an argument\n",
        "  print(fname+' patel')"
      ],
      "execution_count": null,
      "outputs": []
    },
    {
      "cell_type": "code",
      "metadata": {
        "id": "u8LeYJ930mt7",
        "colab": {
          "base_uri": "https://localhost:8080/"
        },
        "outputId": "1d7b9c36-5b8e-43c1-d970-435cd7de853a"
      },
      "source": [
        "# Lets call a name function\n",
        "\n",
        "name(\"himanshu\")   # Here it is required to give a value inside a function otherwise it throws an Error."
      ],
      "execution_count": null,
      "outputs": [
        {
          "output_type": "stream",
          "name": "stdout",
          "text": [
            "himanshu patel\n"
          ]
        }
      ]
    },
    {
      "cell_type": "code",
      "metadata": {
        "id": "3aKpa69a0qlg",
        "colab": {
          "base_uri": "https://localhost:8080/"
        },
        "outputId": "67047fc0-7377-4341-94e5-a814469554e1"
      },
      "source": [
        "# We can Pass any number of Arguments Just like in This:\n",
        "\n",
        "def fullname(fname,lname):\n",
        "  print(fname+lname)\n",
        "\n",
        "# Call a fullname function here we want to give two values to run a function\n",
        "\n",
        "fullname(\"himanshu\",\" patel\")"
      ],
      "execution_count": null,
      "outputs": [
        {
          "output_type": "stream",
          "name": "stdout",
          "text": [
            "tarun patel\n"
          ]
        }
      ]
    },
    {
      "cell_type": "code",
      "metadata": {
        "id": "llf5ko-e1Ome",
        "colab": {
          "base_uri": "https://localhost:8080/"
        },
        "outputId": "65171ea1-3707-44ab-9dc7-50675e0bd0a6"
      },
      "source": [
        "# Arbitary Arguments\n",
        "\n",
        "# If you do not know how many arguments that will be passed into your function, add a * before the parameter name in the function definition.\n",
        "\n",
        "# This way the function will receive a tuple of arguments, and can access the items accordingly\n",
        "\n",
        "def newf(*program):\n",
        "  print(\"I Love: \" + program[0])\n",
        "\n",
        "newf(\"Python\", \"Java\", \"C++\")"
      ],
      "execution_count": null,
      "outputs": [
        {
          "output_type": "stream",
          "name": "stdout",
          "text": [
            "I Love: Python\n"
          ]
        }
      ]
    },
    {
      "cell_type": "code",
      "metadata": {
        "id": "LNcBDtAD18jt",
        "colab": {
          "base_uri": "https://localhost:8080/"
        },
        "outputId": "fe4cb89c-6f64-40ef-fecf-2da0d02f7216"
      },
      "source": [
        "# Default Value in a function\n",
        "\n",
        "def name(fname=\"himanshu\"):\n",
        "  print(fname)\n",
        "\n",
        "# Call a name function\n",
        "name()    # By default it shows himanshupu\n",
        "name(\"Tarun\")  # But when we pass a new value it overides the default value.\n"
      ],
      "execution_count": null,
      "outputs": [
        {
          "output_type": "stream",
          "name": "stdout",
          "text": [
            "himanshu\n",
            "Tarun\n"
          ]
        }
      ]
    },
    {
      "cell_type": "code",
      "metadata": {
        "id": "bSzoBu9t2XmE",
        "colab": {
          "base_uri": "https://localhost:8080/"
        },
        "outputId": "85d0977e-d0f9-4836-e90d-de0e3a8943ae"
      },
      "source": [
        "# Pass a list as an Argument\n",
        "\n",
        "def names(a):\n",
        "  for item in a:\n",
        "    print(item)\n",
        "\n",
        "fname = [\"himanshu\",\"hardik\",\"tarun\"]\n",
        "\n",
        "# Call a function and pass a dictionary\n",
        "names(fname)"
      ],
      "execution_count": null,
      "outputs": [
        {
          "output_type": "stream",
          "name": "stdout",
          "text": [
            "himanshu\n",
            "hardik\n",
            "tarun\n"
          ]
        }
      ]
    },
    {
      "cell_type": "code",
      "metadata": {
        "id": "GhuEMka629b8",
        "colab": {
          "base_uri": "https://localhost:8080/"
        },
        "outputId": "a9e734bd-eb61-40ac-c08d-12f59940c83f"
      },
      "source": [
        "# Return Values\n",
        "# To let a function return a value, use the return statement.\n",
        "\n",
        "def add(x,y):\n",
        "  return x+y\n",
        "\n",
        "add(5,5)"
      ],
      "execution_count": null,
      "outputs": [
        {
          "output_type": "execute_result",
          "data": {
            "text/plain": [
              "10"
            ]
          },
          "metadata": {},
          "execution_count": 9
        }
      ]
    },
    {
      "cell_type": "code",
      "metadata": {
        "id": "r_otoAJi3UfN"
      },
      "source": [
        "# Pass Statement\n",
        "\n",
        "# function definitions cannot be empty,\n",
        "# but if you for some reason have a function definition with no content, put in the pass statement to avoid getting an error.\n",
        "\n",
        "\n",
        "def a():\n",
        "  pass"
      ],
      "execution_count": null,
      "outputs": []
    },
    {
      "cell_type": "markdown",
      "metadata": {
        "id": "-hESQYUG3kvn"
      },
      "source": [
        "**Recursion**"
      ]
    },
    {
      "cell_type": "markdown",
      "metadata": {
        "id": "Ua-CGolo3qeR"
      },
      "source": [
        "**Python also accepts function recursion, which means a defined function can call itself.**"
      ]
    },
    {
      "cell_type": "code",
      "metadata": {
        "id": "kH3asSM43f_u",
        "colab": {
          "base_uri": "https://localhost:8080/"
        },
        "outputId": "6f268ec2-6d27-4955-a7de-64d947ae85f6"
      },
      "source": [
        "def factorial(x):\n",
        "    if x == 1:\n",
        "        return 1\n",
        "    else:\n",
        "        return (x * factorial(x-1))\n",
        "\n",
        "num = 3\n",
        "print(\"The factorial of\", num, \"is\", factorial(num))"
      ],
      "execution_count": null,
      "outputs": [
        {
          "output_type": "stream",
          "name": "stdout",
          "text": [
            "The factorial of 3 is 6\n"
          ]
        }
      ]
    },
    {
      "cell_type": "markdown",
      "metadata": {
        "id": "3o1BOIm64CSB"
      },
      "source": [
        "**Factorial of 3! = 3x2x1**"
      ]
    }
  ]
}